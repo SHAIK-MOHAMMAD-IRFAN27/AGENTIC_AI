{
 "cells": [
  {
   "cell_type": "code",
   "execution_count": 2,
   "id": "622aa094",
   "metadata": {},
   "outputs": [],
   "source": [
    "# tools for chatbot\n",
    "from langchain_community.tools import ArxivQueryRun,WikipediaQueryRun\n",
    "from langchain_community.utilities import WikipediaAPIWrapper,ArxivAPIWrapper\n"
   ]
  },
  {
   "cell_type": "code",
   "execution_count": 3,
   "id": "f8f0d9d6",
   "metadata": {},
   "outputs": [
    {
     "name": "stdout",
     "output_type": "stream",
     "text": [
      "arxiv\n"
     ]
    }
   ],
   "source": [
    "api_wrapper_arxiv=ArxivAPIWrapper(top_k_results=2,doc_content_chars_max=400)\n",
    "arxiv=ArxivQueryRun(api_wrapper=api_wrapper_arxiv,description=\"search for papers on arxiv\")\n",
    "print(arxiv.name)"
   ]
  },
  {
   "cell_type": "code",
   "execution_count": 4,
   "id": "5463cfd1",
   "metadata": {},
   "outputs": [
    {
     "data": {
      "text/plain": [
       "\"Published: 2024-07-22\\nTitle: Attention Is All You Need But You Don't Need All Of It For Inference of Large Language Models\\nAuthors: Georgy Tyukin, Gbetondji J-S Dovonon, Jean Kaddour, Pasquale Minervini\\nSummary: The inference demand for LLMs has skyrocketed in recent months, and serving\\nmodels with low latencies remains challenging due to the quadratic input length\\ncomplexity of the attention laye\""
      ]
     },
     "execution_count": 4,
     "metadata": {},
     "output_type": "execute_result"
    }
   ],
   "source": [
    "arxiv.invoke(\"Attention is all you need\")"
   ]
  },
  {
   "cell_type": "code",
   "execution_count": 5,
   "id": "3603641c",
   "metadata": {},
   "outputs": [
    {
     "data": {
      "text/plain": [
       "'wikipedia'"
      ]
     },
     "execution_count": 5,
     "metadata": {},
     "output_type": "execute_result"
    }
   ],
   "source": [
    "api_wrapper_wiki=WikipediaAPIWrapper(top_k_results=2,doc_content_chars_max=400)\n",
    "wiki=WikipediaQueryRun(api_wrapper=api_wrapper_wiki,description=\"search for wikipedia articles\")\n",
    "wiki.name"
   ]
  },
  {
   "cell_type": "code",
   "execution_count": 6,
   "id": "e03a931e",
   "metadata": {},
   "outputs": [],
   "source": [
    "import os\n",
    "from dotenv import load_dotenv\n",
    "load_dotenv()\n",
    "os.environ[\"TAVILY_API_KEY\"]=os.getenv(\"TAVILY_API_KEY\")\n",
    "os.environ[\"GROQ_API_KEY\"]=os.getenv(\"GROQ_API_KEY\")\n"
   ]
  },
  {
   "cell_type": "code",
   "execution_count": 7,
   "id": "b6fd1f37",
   "metadata": {},
   "outputs": [
    {
     "name": "stderr",
     "output_type": "stream",
     "text": [
      "/var/folders/0x/rj5l5p_d5q5fl64y_t8rc53r0000gn/T/ipykernel_69689/526552018.py:2: LangChainDeprecationWarning: The class `TavilySearchResults` was deprecated in LangChain 0.3.25 and will be removed in 1.0. An updated version of the class exists in the :class:`~langchain-tavily package and should be used instead. To use it run `pip install -U :class:`~langchain-tavily` and import as `from :class:`~langchain_tavily import TavilySearch``.\n",
      "  tavily=TavilySearchResults(max_results=2,doc_content_chars_max=400)\n"
     ]
    }
   ],
   "source": [
    "from langchain_community.tools import TavilySearchResults\n",
    "tavily=TavilySearchResults(max_results=2,doc_content_chars_max=400)\n"
   ]
  },
  {
   "cell_type": "code",
   "execution_count": 8,
   "id": "4b0b3295",
   "metadata": {},
   "outputs": [
    {
     "data": {
      "text/plain": [
       "[{'title': 'Eyewitness News at 6am - July 9, 2025 - ABC7 New York',\n",
       "  'url': 'https://abc7ny.com/videoClip/17033159/',\n",
       "  'content': \"### Woman killed in pizza shop fire after e-bike bursts into flames\\n\\n### 1 killed, 2 others hurt in shooting and slashing in the Bronx: sources\\n\\n### Supreme Court clears the way for Trump to slash federal workforce\\n\\nABC7 New York [...] # Eyewitness News at 6am - July 9, 2025\\n\\nWABC logo\\nEyewitness News at 6am - July 9, 2025\\n\\n## Related Topics\\n\\n## Top Stories\\n\\n## Mamdani endorsed by teachers' union; Trump threatens takeover\\n\\n## Searchers in helicopters scour Texas flood debris for the missing\\n\\n## Crews cleaning up after thunderstorms bring down trees in NJ\\n\\n## Philadelphia workers and city reach a deal to end trash strike\\n\\n## Car fire in Lincoln Tunnel leads to 6 injuries, massive delays\",\n",
       "  'score': 0.2624664},\n",
       " {'title': 'Portal:Current events/July 2025 - Wikipedia',\n",
       "  'url': 'https://en.wikipedia.org/wiki/Portal:Current_events/July_2025',\n",
       "  'content': 'Armed conflicts and attacks\\n\\nBusiness and economy\\n\\nDisasters and accidents\\n\\nLaw and crime\\n\\nArmed conflicts and attacks\\n\\nDisasters and accidents\\n\\n◀July 2025▶\\n\\n| S | M | T | W | T | F | S |\\n| --- | --- | --- | --- | --- | --- | --- |\\n|  |  | 1 | 2 | 3 | 4 | 5 |\\n| 6 | 7 | 8 | 9 | 10 | 11 | 12 |\\n| 13 | 14 | 15 | 16 | 17 | 18 | 19 |\\n| 20 | 21 | 22 | 23 | 24 | 25 | 26 |\\n| 27 | 28 | 29 | 30 | 31 |  |  |\\n\\n## Ongoing events\\n\\n### Disasters\\n\\n### Economics\\n\\n### Politics and diplomacy [...] Business and economy\\n\\nInternational relations\\n\\nLaw and crime\\n\\nPolitics and elections\\n\\nScience and technology\\n\\nArmed conflicts and attacks\\n\\nDisasters and accidents\\n\\nLaw and crime\\n\\nArmed conflicts and attacks\\n\\nDisasters and accidents\\n\\nPolitics and elections\\n\\nArmed conflicts and attacks\\n\\nDisasters and accidents\\n\\nInternational relations\\n\\nLaw and crime\\n\\nSports\\n\\nPolitics and elections\\n\\nArmed conflicts and attacks\\n\\nBusiness and economy\\n\\nDisasters and accidents\\n\\nLaw and crime\\n\\nPolitics and elections [...] ### Protests and strikes\\n\\n### Weather\\n\\n## Elections and referendums\\n\\n### Upcoming\\n\\n## Trials\\n\\n### Recently concluded\\n\\n## Sports\\n\\n## Recent deaths\\n\\n### July0/0June\\n\\n## Ongoing conflicts\\n\\n### Global\\n\\n### Africa\\n\\n### Americas\\n\\n### Asia−Pacific\\n\\n### Europe\\n\\n### Middle East\\n\\n## 2025 events and developments by topic\\n\\n### Arts\\n\\n### Politics and government\\n\\n### Science and technology\\n\\n### Environment and environmental sciences\\n\\n### Transportation',\n",
       "  'score': 0.2607686}]"
      ]
     },
     "execution_count": 8,
     "metadata": {},
     "output_type": "execute_result"
    }
   ],
   "source": [
    "tavily.invoke(\"whats the news today\")"
   ]
  },
  {
   "cell_type": "code",
   "execution_count": 9,
   "id": "920e6afb",
   "metadata": {},
   "outputs": [],
   "source": [
    "# combining all tolls into list\n",
    "tools=[arxiv,wiki,tavily]\n",
    "\n",
    "\n"
   ]
  },
  {
   "cell_type": "code",
   "execution_count": 10,
   "id": "80160aa6",
   "metadata": {},
   "outputs": [],
   "source": [
    "from langchain_groq import ChatGroq \n",
    "llm=ChatGroq(model=\"qwen-qwq-32b\")"
   ]
  },
  {
   "cell_type": "code",
   "execution_count": 11,
   "id": "5041d2cd",
   "metadata": {},
   "outputs": [
    {
     "data": {
      "text/plain": [
       "AIMessage(content='\\n<think>\\nOkay, the user is asking \"what is AI\". Let me start by breaking down the term. AI stands for Artificial Intelligence, right? So I should explain that first. But I need to make sure I cover the basics without getting too technical. Maybe start with a simple definition: the ability of machines to perform tasks that typically require human intelligence.\\n\\nHmm, what are the key areas of AI? There\\'s machine learning, which is a subset. I should mention that. Also, neural networks and deep learning might be important to touch on. But I don\\'t want to overload them with too much jargon. Maybe give examples of AI applications they might be familiar with, like voice assistants (Siri, Alexa), recommendation systems (Netflix, Spotify), or self-driving cars.\\n\\nWait, the user might also be interested in the goals of AI. Like, AI can be categorized into narrow or general. Narrow AI does specific tasks, while general AI would have human-like cognitive abilities. But general AI isn\\'t really a thing yet, right? So I should clarify that distinction.\\n\\nOh, and I should mention the fields that contribute to AI, like computer science, data science, and maybe even a bit of philosophy or psychology. How about the components of AI systems? Data, algorithms, and computational power are essential. Maybe explain how each plays a role.\\n\\nAlso, ethical considerations are important. Issues like bias in algorithms, privacy concerns, and job displacement. It\\'s good to address that AI isn\\'t just about technology but also societal impacts.\\n\\nI should structure this in a way that\\'s easy to follow. Start with a simple definition, then break it down into components, applications, types, and challenges. Keep paragraphs short. Avoid using too many technical terms, but if I do, define them. Let me check if I missed anything. Maybe historical context? Like early AI development in the 1950s? That could add some depth without making it too long.\\n\\nWait, the user might not know what a neural network is, so I should explain that briefly. Maybe compare it to the human brain? Or just say it\\'s inspired by the brain\\'s structure. Also, reinforcement learning is another technique, but perhaps that\\'s too detailed. Focus on the main points.\\n\\nHmm, examples are important for clarity. Let me list some common uses so they can relate. Maybe mention facial recognition, chatbots, medical diagnosis, or even things like fraud detection in banking. That makes it more tangible.\\n\\nI need to ensure the explanation is balanced between technical aspects and real-world applications. Also, highlight that AI is a broad field with various approaches and ongoing advancements. Emphasize that it\\'s not just about robots, which some people might think.\\n\\nWait, should I mention specific techniques like supervised vs unsupervised learning? Maybe briefly, but perhaps that\\'s for a more detailed question. Here, a high-level overview is better. Keep it accessible.\\n\\nOkay, putting it all together: start with the definition, then components, types (narrow vs general), applications, and then touch on challenges and ethics. Conclude with the current state and future potential. That should cover the main points without overwhelming the reader. Let me make sure it\\'s all in my own words and flows naturally.\\n</think>\\n\\n**Artificial Intelligence (AI)** refers to the ability of machines or computer systems to perform tasks that typically require human intelligence, such as learning, problem-solving, decision-making, perception, and language understanding. It aims to simulate human cognitive functions, enabling technology to process information, adapt to new data, and even \"learn\" from experiences to improve over time.\\n\\n### Key Components of AI:\\n1. **Data**: AI systems rely on large datasets to train models and make informed decisions.\\n2. **Algorithms**: Mathematical procedures (like machine learning or neural networks) that enable systems to recognize patterns, classify data, or predict outcomes.\\n3. **Computational Power**: Advanced hardware (e.g., GPUs) and software infrastructure to process complex calculations quickly.\\n\\n---\\n\\n### Types of AI:\\n1. **Narrow (Weak) AI**:  \\n   - Specializes in specific, narrowly defined tasks.  \\n   - *Examples*:  \\n     - Voice assistants (Siri, Alexa)  \\n     - Recommendation systems (Netflix, Spotify)  \\n     - Image recognition (facial recognition, medical scans)  \\n     - Self-driving cars (limited to driving tasks).\\n\\n2. **General (Strong) AI**:  \\n   - Hypothetical systems capable of human-like intelligence across *any* task, including creativity, reasoning, and emotional understanding.  \\n   - *Note*: Does not yet exist; current AI is far from achieving this.\\n\\n---\\n\\n### How AI Works:\\n- **Machine Learning (ML)**: A subset of AI where systems learn from data to improve performance over time.  \\n  - *Supervised Learning*: Trained with labeled data (e.g., identifying cats in photos).  \\n  - *Unsupervised Learning*: Finds hidden patterns in unlabeled data.  \\n  - *Reinforcement Learning*: Learns by trial and error through rewards/punishments (e.g., game-playing AIs like AlphaGo).  \\n- **Deep Learning**: Uses artificial neural networks (inspired by the human brain) to process vast amounts of data, excel in areas like image/speech recognition, and natural language processing (NLP).\\n\\n---\\n\\n### Applications of AI:\\n- **Healthcare**: Diagnosing diseases, drug discovery, and personalized treatment plans.  \\n- **Business**: Customer service chatbots, fraud detection, and predictive analytics.  \\n- **Transportation**: Autonomous vehicles and route optimization.  \\n- **Entertainment**: Content recommendations, video game AI, and digital art.  \\n- **Daily Life**: Smart home devices (e.g., Alexa controlling lights) or translation tools (Google Translate).\\n\\n---\\n\\n### Challenges & Considerations:\\n1. **Ethical Concerns**:  \\n   - Bias in algorithms (e.g., facial recognition errors in different demographics).  \\n   - Privacy risks (data misuse in surveillance or personal data collection).  \\n   - Job displacement due to automation.  \\n2. **Technical Limitations**:  \\n   - Reliance on data quality (garbage-in, garbage-out).  \\n   - Lack of true \"understanding\" (e.g., an AI might classify a photo of a cat but not \"know\" what a cat is).  \\n3. **Safety & Control**: Debates about regulating AI development to prevent misuse (e.g., autonomous weapons).\\n\\n---\\n\\n### Current State & Future Potential:\\n- **Now**: Dominated by narrow AI, revolutionizing industries through automation and data-driven insights.  \\n- **Future**: Ongoing research toward general AI, ethical frameworks, and applications like climate modeling or space exploration.  \\n\\nIn essence, AI is a tool shaped by human ingenuity, with vast potential but also responsibilities to ensure its benefits align with societal values.', additional_kwargs={}, response_metadata={'token_usage': {'completion_tokens': 1404, 'prompt_tokens': 13, 'total_tokens': 1417, 'completion_time': 3.279067178, 'prompt_time': 0.002935902, 'queue_time': 0.281424546, 'total_time': 3.28200308}, 'model_name': 'qwen-qwq-32b', 'system_fingerprint': 'fp_28178d7ff6', 'finish_reason': 'stop', 'logprobs': None}, id='run--f3bdfa9f-7daf-4f43-9693-53d2977948d9-0', usage_metadata={'input_tokens': 13, 'output_tokens': 1404, 'total_tokens': 1417})"
      ]
     },
     "execution_count": 11,
     "metadata": {},
     "output_type": "execute_result"
    }
   ],
   "source": [
    "llm.invoke(\"what is AI\")"
   ]
  },
  {
   "cell_type": "code",
   "execution_count": 12,
   "id": "400de360",
   "metadata": {},
   "outputs": [],
   "source": [
    "llm_with_tools=llm.bind_tools(tools=tools)\n"
   ]
  },
  {
   "cell_type": "code",
   "execution_count": 13,
   "id": "181e78f9",
   "metadata": {},
   "outputs": [
    {
     "data": {
      "text/plain": [
       "AIMessage(content='', additional_kwargs={'tool_calls': [{'id': 'tt9dy8vhz', 'function': {'arguments': '{\"query\":\"latest news on AI\"}', 'name': 'tavily_search_results_json'}, 'type': 'function'}]}, response_metadata={'token_usage': {'completion_tokens': 170, 'prompt_tokens': 270, 'total_tokens': 440, 'completion_time': 0.412287119, 'prompt_time': 0.025583926, 'queue_time': 0.26234547, 'total_time': 0.437871045}, 'model_name': 'qwen-qwq-32b', 'system_fingerprint': 'fp_1e88ca32eb', 'finish_reason': 'tool_calls', 'logprobs': None}, id='run--2e58fdec-353e-486b-8acf-2c23843b92e0-0', tool_calls=[{'name': 'tavily_search_results_json', 'args': {'query': 'latest news on AI'}, 'id': 'tt9dy8vhz', 'type': 'tool_call'}], usage_metadata={'input_tokens': 270, 'output_tokens': 170, 'total_tokens': 440})"
      ]
     },
     "execution_count": 13,
     "metadata": {},
     "output_type": "execute_result"
    }
   ],
   "source": [
    "## execute this call in the cell below\n",
    "llm_with_tools.invoke(\"what is the latest news on AI?\")"
   ]
  },
  {
   "cell_type": "markdown",
   "id": "3af473ec",
   "metadata": {},
   "source": [
    "    TILL NOW THE LLM UNDERSTAND TO WHOM AND WHICH TOOL IT SHOULD SEND THE QUERY BUT CANT ANSWER AND SOME TIMES IT ALSO CAN GIVE THE ANSWER"
   ]
  },
  {
   "cell_type": "code",
   "execution_count": 14,
   "id": "6ebe4bbd",
   "metadata": {},
   "outputs": [],
   "source": [
    "# START THE ENTIRE WORKFLOW \n",
    "from typing_extensions import TypedDict\n",
    "from langchain_core.messages import AnyMessage # Human message or AI message\n",
    "from typing import Annotated #labelling the messages\n",
    "from langgraph.graph.message import add_messages  # add messages to the graph"
   ]
  },
  {
   "cell_type": "code",
   "execution_count": 15,
   "id": "756e6be3",
   "metadata": {},
   "outputs": [],
   "source": [
    "class State(TypedDict):\n",
    "    messages: Annotated[list[AnyMessage], add_messages] #messages node available in every node of that langgraph\n",
    "    # list of all sys message human msg all gets appended\n",
    "    #  to this list This is one by add_messages. \n",
    "    # It doesnt over ride the anaswers but append to the variable \n",
    "    # messages and returns in form of typedict\n"
   ]
  },
  {
   "cell_type": "code",
   "execution_count": 16,
   "id": "08b7d306",
   "metadata": {},
   "outputs": [],
   "source": [
    "from IPython.display import Image, display\n",
    "from langgraph.graph import StateGraph, START, END\n",
    "from langgraph.prebuilt import ToolNode\n",
    "from langgraph.prebuilt import tools_condition\n",
    "# TOol condition is for when should we use the tool\n",
    "# if we have a tool node we can use the tool condition\n"
   ]
  },
  {
   "cell_type": "code",
   "execution_count": 17,
   "id": "3f7b40a0",
   "metadata": {},
   "outputs": [
    {
     "data": {
      "image/png": "[encoded data removed]",
      "text/plain": [
       "<IPython.core.display.Image object>"
      ]
     },
     "metadata": {},
     "output_type": "display_data"
    }
   ],
   "source": [
    "def tool_calling_llm(state:State):\n",
    "    return {\"messages\":[llm_with_tools.invoke(state[\"messages\"])]}\n",
    "# Build graph\n",
    "builder=StateGraph(State)\n",
    "builder.add_node(\"tool_calling_llm\",tool_calling_llm)\n",
    "builder.add_node(\"tools\",ToolNode(tools=tools))\n",
    "\n",
    "\n",
    "builder.add_edge(START, \"tool_calling_llm\")\n",
    "builder.add_conditional_edges(\n",
    "    \"tool_calling_llm\",\n",
    "    tools_condition,\n",
    "    # if tool is called then go to tools node\n",
    "    # if tool is not called then go to tool_calling_llm node and route to END\n",
    ")\n",
    "builder.add_edge(\"tools\",END)\n",
    "graph=builder.compile()\n",
    "display(Image(graph.get_graph().draw_mermaid_png()))\n"
   ]
  },
  {
   "cell_type": "code",
   "execution_count": 18,
   "id": "b3b6d358",
   "metadata": {},
   "outputs": [
    {
     "name": "stdout",
     "output_type": "stream",
     "text": [
      "================================\u001b[1m Human Message \u001b[0m=================================\n",
      "\n",
      "1706.03762\n",
      "==================================\u001b[1m Ai Message \u001b[0m==================================\n",
      "Tool Calls:\n",
      "  arxiv (7wzbsrjv4)\n",
      " Call ID: 7wzbsrjv4\n",
      "  Args:\n",
      "    query: 1706.03762\n",
      "=================================\u001b[1m Tool Message \u001b[0m=================================\n",
      "Name: arxiv\n",
      "\n",
      "Published: 2023-08-02\n",
      "Title: Attention Is All You Need\n",
      "Authors: Ashish Vaswani, Noam Shazeer, Niki Parmar, Jakob Uszkoreit, Llion Jones, Aidan N. Gomez, Lukasz Kaiser, Illia Polosukhin\n",
      "Summary: The dominant sequence transduction models are based on complex recurrent or\n",
      "convolutional neural networks in an encoder-decoder configuration. The best\n",
      "performing models also connect the encoder and decoder\n"
     ]
    }
   ],
   "source": [
    "messages=graph.invoke({\"messages\":\"1706.03762\"})\n",
    "for m in messages['messages']:\n",
    "    m.pretty_print()"
   ]
  },
  {
   "cell_type": "code",
   "execution_count": 19,
   "id": "2b7b4d53",
   "metadata": {},
   "outputs": [
    {
     "name": "stdout",
     "output_type": "stream",
     "text": [
      "================================\u001b[1m Human Message \u001b[0m=================================\n",
      "\n",
      "Hi my name is irfan\n",
      "==================================\u001b[1m Ai Message \u001b[0m==================================\n",
      "\n",
      "Hello Irfan! Nice to meet you. How can I assist you today?\n"
     ]
    }
   ],
   "source": [
    "messages=graph.invoke({\"messages\":\"Hi my name is irfan\"})\n",
    "for m in messages['messages']:\n",
    "    m.pretty_print()"
   ]
  },
  {
   "cell_type": "markdown",
   "id": "4424535d",
   "metadata": {},
   "source": [
    "The below is a ReAct Architecture"
   ]
  },
  {
   "cell_type": "code",
   "execution_count": 20,
   "id": "54b3efc2",
   "metadata": {},
   "outputs": [
    {
     "data": {
      "image/png": "[encoded data removed]",
      "text/plain": [
       "<IPython.core.display.Image object>"
      ]
     },
     "metadata": {},
     "output_type": "display_data"
    }
   ],
   "source": [
    "def tool_calling_llm2(state:State):\n",
    "    return {\"messages\":[llm_with_tools.invoke(state[\"messages\"])]}\n",
    "# Build graph\n",
    "builder2=StateGraph(State)\n",
    "builder2.add_node(\"tool_calling_llm\",tool_calling_llm)\n",
    "builder2.add_node(\"tools\",ToolNode(tools=tools))\n",
    "\n",
    "\n",
    "builder2.add_edge(START, \"tool_calling_llm\")\n",
    "builder2.add_conditional_edges(\n",
    "    \"tool_calling_llm\",\n",
    "    tools_condition,\n",
    "    # if tool is called then go to tools node\n",
    "    # if tool is not called then go to tool_calling_llm node and route to END\n",
    ")\n",
    "builder2.add_edge(\"tools\",\"tool_calling_llm\")\n",
    "graph2=builder2.compile()\n",
    "display(Image(graph2.get_graph().draw_mermaid_png()))\n"
   ]
  },
  {
   "cell_type": "code",
   "execution_count": 21,
   "id": "357558cf",
   "metadata": {},
   "outputs": [
    {
     "name": "stdout",
     "output_type": "stream",
     "text": [
      "================================\u001b[1m Human Message \u001b[0m=================================\n",
      "\n",
      "Hi my name is irfan. please tell me the recent research paper on AI\n",
      "==================================\u001b[1m Ai Message \u001b[0m==================================\n",
      "Tool Calls:\n",
      "  arxiv (zbqcxz1n7)\n",
      " Call ID: zbqcxz1n7\n",
      "  Args:\n",
      "    query: recent research papers on AI\n",
      "=================================\u001b[1m Tool Message \u001b[0m=================================\n",
      "Name: arxiv\n",
      "\n",
      "Published: 2021-11-01\n",
      "Title: Stakeholder Participation in AI: Beyond \"Add Diverse Stakeholders and Stir\"\n",
      "Authors: Fernando Delgado, Stephen Yang, Michael Madaio, Qian Yang\n",
      "Summary: There is a growing consensus in HCI and AI research that the design of AI\n",
      "systems needs to engage and empower stakeholders who will be affected by AI.\n",
      "However, the manner in which stakeholders should participate in AI d\n",
      "==================================\u001b[1m Ai Message \u001b[0m==================================\n",
      "\n",
      "Here's a recent research paper from arXiv related to AI:\n",
      "\n",
      "**Title:** Stakeholder Participation in AI: Beyond \"Add Diverse Stakeholders and Stir\"  \n",
      "**Authors:** Fernando Delgado, Stephen Yang, Michael Madaio, Qian Yang  \n",
      "**Published:** November 1, 2021  \n",
      "**Summary:** Discusses methods for meaningful stakeholder involvement in AI system design beyond superficial diversity efforts.\n",
      "\n",
      "Would you like me to:\n",
      "1. Refine the search with more specific keywords?\n",
      "2. Check for more recent papers (2023)?\n",
      "3. Search other sources like Tavily or Wikipedia for additional perspectives?\n",
      "\n",
      "Let me know how you'd like to proceed!\n"
     ]
    }
   ],
   "source": [
    "messages=graph2.invoke({\"messages\":\"Hi my name is irfan. please tell me the recent research paper on AI\"})\n",
    "for m in messages['messages']:\n",
    "    m.pretty_print()"
   ]
  },
  {
   "cell_type": "code",
   "execution_count": 22,
   "id": "41b786a5",
   "metadata": {},
   "outputs": [
    {
     "name": "stdout",
     "output_type": "stream",
     "text": [
      "================================\u001b[1m Human Message \u001b[0m=================================\n",
      "\n",
      "WHat is the recent news on AI and please tell me the recent research paper on AI\n",
      "==================================\u001b[1m Ai Message \u001b[0m==================================\n",
      "Tool Calls:\n",
      "  tavily_search_results_json (r08h7am75)\n",
      " Call ID: r08h7am75\n",
      "  Args:\n",
      "    query: latest news and developments in artificial intelligence technology\n",
      "  arxiv (set6keeca)\n",
      " Call ID: set6keeca\n",
      "  Args:\n",
      "    query: recent advancements in artificial intelligence research papers\n",
      "=================================\u001b[1m Tool Message \u001b[0m=================================\n",
      "Name: tavily_search_results_json\n",
      "\n",
      "[{\"title\": \"AI News | Latest AI News, Analysis & Events\", \"url\": \"https://www.artificialintelligence-news.com/\", \"content\": \"AI News reports on the latest artificial intelligence news and insights. Explore industry trends from the frontline of AI.\", \"score\": 0.7251239}, {\"title\": \"AI News & Artificial Intelligence | TechCrunch\", \"url\": \"https://techcrunch.com/category/artificial-intelligence/\", \"content\": \"Contact Us\\n\\n# AI\\n\\nNews coverage on artificial intelligence and machine learning tech, the companies building them, and the ethical issues AI raises today. This encompasses generative AI, including large language models, text-to-image and text-to-video models; speech recognition and generation; and predictive analytics.\\n\\n### \\n\\nReachy Mini, Hugging Face, robotics\\n\\n### Hugging Face opens up orders for its Reachy Mini desktop robots\\n\\n### LangChain is about to become a unicorn, sources say [...] ### Moonvalley’s ‘ethical’ AI video model for filmmakers is now publicly available\\n\\nTechCrunch All Stage 2025 roundtable\\n\\n### Jeff Chow of Miro shares how team intelligence drives better product-building at TechCrunch All Stage\\n\\nArtificial intelligence technology futuristic background. Green binary coding letters on black.\\n\\n### OpenAI tightens the screws on security to keep away prying eyes\\n\\n### Meta reportedly recruits Apple’s head of AI models [...] ### Topics\\n\\nLatest\\n\\nAI\\n\\nAmazon\\n\\nApps\\n\\nBiotech & Health\\n\\nClimate\\n\\nCloud Computing\\n\\nCommerce\\n\\nCrypto\\n\\nEnterprise\\n\\nEVs\\n\\nFintech\\n\\nFundraising\\n\\nGadgets\\n\\nGaming\\n\\nGoogle\\n\\nGovernment & Policy\\n\\nHardware\\n\\nInstagram\\n\\nLayoffs\\n\\nMedia & Entertainment\\n\\nMeta\\n\\nMicrosoft\\n\\nPrivacy\\n\\nRobotics\\n\\nSecurity\\n\\nSocial\\n\\nSpace\\n\\nStartups\\n\\nTikTok\\n\\nTransportation\\n\\nVenture\\n\\n### More from TechCrunch\\n\\nStaff\\n\\nEvents\\n\\nStartup Battlefield\\n\\nStrictlyVC\\n\\nNewsletters\\n\\nPodcasts\\n\\nVideos\\n\\nPartner Content\\n\\nTechCrunch Brand Studio\\n\\nCrunchboard\", \"score\": 0.6773251}]\n",
      "=================================\u001b[1m Tool Message \u001b[0m=================================\n",
      "Name: arxiv\n",
      "\n",
      "Published: 2023-10-23\n",
      "Title: Intelligent Escape of Robotic Systems: A Survey of Methodologies, Applications, and Challenges\n",
      "Authors: Junfei Li, Simon X. Yang\n",
      "Summary: Intelligent escape is an interdisciplinary field that employs artificial\n",
      "intelligence (AI) techniques to enable robots with the capacity to\n",
      "intelligently react to potential dangers in dynamic, intricate, and\n",
      "unpredictable scenarios. \n"
     ]
    }
   ],
   "source": [
    "messages=graph.invoke({\"messages\":\"WHat is the recent news on AI and please tell me the recent research paper on AI\"})\n",
    "for m in messages['messages']:\n",
    "    m.pretty_print()"
   ]
  },
  {
   "cell_type": "code",
   "execution_count": 23,
   "id": "0c367d1c",
   "metadata": {},
   "outputs": [
    {
     "name": "stdout",
     "output_type": "stream",
     "text": [
      "================================\u001b[1m Human Message \u001b[0m=================================\n",
      "\n",
      "Hello my name is irfan\n",
      "==================================\u001b[1m Ai Message \u001b[0m==================================\n",
      "\n",
      "Hello Irfan! Nice to meet you. How can I assist you today?\n"
     ]
    }
   ],
   "source": [
    "messages=graph.invoke({\"messages\":\"Hello my name is irfan\"})\n",
    "for m in messages['messages']:\n",
    "    m.pretty_print()"
   ]
  },
  {
   "cell_type": "code",
   "execution_count": 24,
   "id": "490c92de",
   "metadata": {},
   "outputs": [
    {
     "name": "stdout",
     "output_type": "stream",
     "text": [
      "================================\u001b[1m Human Message \u001b[0m=================================\n",
      "\n",
      "What is my name?\n",
      "==================================\u001b[1m Ai Message \u001b[0m==================================\n",
      "\n",
      "I don't have access to personal information or previous conversation history, so I don't know your name. Could you please tell me your name?\n"
     ]
    }
   ],
   "source": [
    "messages=graph.invoke({\"messages\":\"What is my name?\"})\n",
    "for m in messages['messages']:\n",
    "    m.pretty_print()"
   ]
  },
  {
   "cell_type": "code",
   "execution_count": 29,
   "id": "4d30f748",
   "metadata": {},
   "outputs": [
    {
     "data": {
      "image/png": "[encoded data removed]",
      "text/plain": [
       "<IPython.core.display.Image object>"
      ]
     },
     "metadata": {},
     "output_type": "display_data"
    }
   ],
   "source": [
    "from IPython.display import Image, display\n",
    "from langgraph.graph import StateGraph, START, END\n",
    "from langgraph.prebuilt import ToolNode\n",
    "from langgraph.prebuilt import tools_condition\n",
    "from langgraph.checkpoint.memory import MemorySaver\n",
    "memory=MemorySaver()\n",
    "\n",
    "\n",
    "def tool_calling_llm2(state:State):\n",
    "    return {\"messages\":[llm_with_tools.invoke(state[\"messages\"])]}\n",
    "# Build graph\n",
    "builder2=StateGraph(State)\n",
    "builder2.add_node(\"tool_calling_llm\",tool_calling_llm)\n",
    "builder2.add_node(\"tools\",ToolNode(tools=tools))\n",
    "\n",
    "\n",
    "builder2.add_edge(START, \"tool_calling_llm\")\n",
    "builder2.add_conditional_edges(\n",
    "    \"tool_calling_llm\",\n",
    "    tools_condition,\n",
    "    # if tool is called then go to tools node\n",
    "    # if tool is not called then go to tool_calling_llm node and route to END\n",
    ")\n",
    "builder2.add_edge(\"tools\",\"tool_calling_llm\")\n",
    "graph2=builder2.compile(checkpointer=memory)\n",
    "display(Image(graph2.get_graph().draw_mermaid_png()))"
   ]
  },
  {
   "cell_type": "code",
   "execution_count": 30,
   "id": "3ea07ce9",
   "metadata": {},
   "outputs": [
    {
     "data": {
      "text/plain": [
       "{'messages': [HumanMessage(content='Hi my name is irfan.', additional_kwargs={}, response_metadata={}, id='a85a7d17-5624-48cd-a575-85e9db67521f'),\n",
       "  AIMessage(content='Hello Irfan! Nice to meet you. How can I assist you today? Feel free to ask me any questions or let me know if you need help with anything specific! 😊', additional_kwargs={}, response_metadata={'token_usage': {'completion_tokens': 180, 'prompt_tokens': 269, 'total_tokens': 449, 'completion_time': 0.436641087, 'prompt_time': 0.015496715, 'queue_time': 0.26000449400000003, 'total_time': 0.452137802}, 'model_name': 'qwen-qwq-32b', 'system_fingerprint': 'fp_1e88ca32eb', 'finish_reason': 'stop', 'logprobs': None}, id='run--af5946c8-0553-4ebf-b432-1d78da9232ad-0', usage_metadata={'input_tokens': 269, 'output_tokens': 180, 'total_tokens': 449})]}"
      ]
     },
     "execution_count": 30,
     "metadata": {},
     "output_type": "execute_result"
    }
   ],
   "source": [
    "config={\"configurable\":{\"thread_id\":\"1\"}}\n",
    "response=graph2.invoke({\"messages\":\"Hi my name is irfan.\"},config=config)\n",
    "response"
   ]
  },
  {
   "cell_type": "code",
   "execution_count": 31,
   "id": "a5d35e6a",
   "metadata": {},
   "outputs": [
    {
     "name": "stdout",
     "output_type": "stream",
     "text": [
      "==================================\u001b[1m Ai Message \u001b[0m==================================\n",
      "\n",
      "Hello Irfan! Nice to meet you. How can I assist you today? Feel free to ask me any questions or let me know if you need help with anything specific! 😊\n"
     ]
    }
   ],
   "source": [
    "response['messages'][-1].pretty_print()"
   ]
  },
  {
   "cell_type": "code",
   "execution_count": 32,
   "id": "76580fc5",
   "metadata": {},
   "outputs": [
    {
     "name": "stdout",
     "output_type": "stream",
     "text": [
      "==================================\u001b[1m Ai Message \u001b[0m==================================\n",
      "\n",
      "Hello again, Irfan! Yes, I remember your name. How can I assist you today? 😊\n"
     ]
    }
   ],
   "source": [
    "response2=graph2.invoke({\"messages\":\"Hi do you remember my name ?\"},config=config)\n",
    "response2['messages'][-1].pretty_print()"
   ]
  },
  {
   "cell_type": "markdown",
   "id": "5b94f363",
   "metadata": {},
   "source": [
    "# STREAMING"
   ]
  },
  {
   "cell_type": "code",
   "execution_count": 33,
   "id": "64016f5b",
   "metadata": {},
   "outputs": [],
   "source": [
    "from langgraph.checkpoint.memory import MemorySaver\n",
    "memory=MemorySaver()\n",
    "def superbot(state:State):\n",
    "    return {\"messages\":[llm.invoke(state[\"messages\"])]}\n"
   ]
  },
  {
   "cell_type": "code",
   "execution_count": 34,
   "id": "778d726a",
   "metadata": {},
   "outputs": [
    {
     "data": {
      "image/png": "[encoded data removed]",
      "text/plain": [
       "<IPython.core.display.Image object>"
      ]
     },
     "metadata": {},
     "output_type": "display_data"
    }
   ],
   "source": [
    "graph=StateGraph(State)\n",
    "graph.add_node(\"superbot\",superbot)\n",
    "graph.add_edge(START,\"superbot\")\n",
    "graph.add_edge(\"superbot\",END)\n",
    "graph=graph.compile(checkpointer=memory)\n",
    "display(Image(graph.get_graph().draw_mermaid_png()))"
   ]
  },
  {
   "cell_type": "code",
   "execution_count": null,
   "id": "00f8f679",
   "metadata": {},
   "outputs": [
    {
     "name": "stdout",
     "output_type": "stream",
     "text": [
      "==================================\u001b[1m Ai Message \u001b[0m==================================\n",
      "\n",
      "\n",
      "<think>\n",
      "Okay, the user said \"Hi my name is irfan.\" again. Let me check the history. Oh right, in the first message they introduced themselves, and I responded. Now they're repeating the same message. Maybe they're testing if I remember their name? Or perhaps they're not sure how to proceed.\n",
      "\n",
      "I should acknowledge their greeting again but this time use their name to show I remember. Maybe prompt them to ask for what they need help with. Keep it friendly and encouraging. Let's see... \"Hello again, Irfan!\" That's good. Then ask how I can assist them today, maybe add an emoji to keep it warm. Yeah, that should work. Make sure not to assume they forgot, just a gentle nudge to proceed with their request.\n",
      "</think>\n",
      "\n",
      "Hello again, Irfan! 😊 How can I assist you today? Feel free to ask anything!\n"
     ]
    }
   ],
   "source": [
    "config={\"configurable\":{\"thread_id\":\"2\"}}\n",
    "response=graph.invoke({\"messages\":\"Hi my name is irfan.\"},config=config)\n",
    "response['messages'][-1].pretty_print()"
   ]
  },
  {
   "cell_type": "code",
   "execution_count": 38,
   "id": "7b8c9ffc",
   "metadata": {},
   "outputs": [
    {
     "name": "stdout",
     "output_type": "stream",
     "text": [
      "{'superbot': {'messages': [AIMessage(content='\\n<think>\\nOkay, the user introduced themselves as Irfan and mentioned liking cricket. I should respond in a friendly way.\\n\\nFirst, I\\'ll greet them back. Maybe say \"Hi Irfan!\" to acknowledge their name.\\n\\nNext, I should show interest in their interest by asking about their favorite cricket team or players. That could lead to a conversation.\\n\\nAlso, maybe ask if they follow any particular tournaments. The World Cup is a big one, so mentioning that makes sense.\\n\\nI need to keep it open-ended so they can choose what to talk about. Maybe end with a question to encourage them to share more.\\n\\nLet me put that together in a natural, conversational tone without any jargon or complicated words. Keep it simple and friendly.\\n</think>\\n\\nHi Irfan! That\\'s a great hobby—cricket is such a thrilling sport! Do you have a favorite cricket team or player? And do you enjoy following tournaments like the World Cup or the IPL? 😊 Let me know—I’d love to chat about it!', additional_kwargs={}, response_metadata={'token_usage': {'completion_tokens': 208, 'prompt_tokens': 21, 'total_tokens': 229, 'completion_time': 0.486499786, 'prompt_time': 0.003405375, 'queue_time': 0.548311263, 'total_time': 0.489905161}, 'model_name': 'qwen-qwq-32b', 'system_fingerprint': 'fp_28178d7ff6', 'finish_reason': 'stop', 'logprobs': None}, id='run--3b02d585-2786-486f-a583-8e781b437306-0', usage_metadata={'input_tokens': 21, 'output_tokens': 208, 'total_tokens': 229})]}}\n"
     ]
    }
   ],
   "source": [
    "config={\"configurable\":{\"thread_id\":\"3\"}}\n",
    "for chunk in graph.stream({\"messages\":\"Hi my name is irfan. and i like cricket\"},config=config,stream_mode=\"updates\"):\n",
    "    print(chunk)"
   ]
  },
  {
   "cell_type": "code",
   "execution_count": 39,
   "id": "472d0899",
   "metadata": {},
   "outputs": [
    {
     "name": "stdout",
     "output_type": "stream",
     "text": [
      "{'messages': [HumanMessage(content='Hi my name is irfan. and i like cricket', additional_kwargs={}, response_metadata={}, id='e4ed58c4-fc9a-4255-a2af-85d25bbb9f5f'), AIMessage(content='\\n<think>\\nOkay, the user introduced themselves as Irfan and mentioned liking cricket. I should respond in a friendly way.\\n\\nFirst, I\\'ll greet them back. Maybe say \"Hi Irfan!\" to acknowledge their name.\\n\\nNext, I should show interest in their interest by asking about their favorite cricket team or players. That could lead to a conversation.\\n\\nAlso, maybe ask if they follow any particular tournaments. The World Cup is a big one, so mentioning that makes sense.\\n\\nI need to keep it open-ended so they can choose what to talk about. Maybe end with a question to encourage them to share more.\\n\\nLet me put that together in a natural, conversational tone without any jargon or complicated words. Keep it simple and friendly.\\n</think>\\n\\nHi Irfan! That\\'s a great hobby—cricket is such a thrilling sport! Do you have a favorite cricket team or player? And do you enjoy following tournaments like the World Cup or the IPL? 😊 Let me know—I’d love to chat about it!', additional_kwargs={}, response_metadata={'token_usage': {'completion_tokens': 208, 'prompt_tokens': 21, 'total_tokens': 229, 'completion_time': 0.486499786, 'prompt_time': 0.003405375, 'queue_time': 0.548311263, 'total_time': 0.489905161}, 'model_name': 'qwen-qwq-32b', 'system_fingerprint': 'fp_28178d7ff6', 'finish_reason': 'stop', 'logprobs': None}, id='run--3b02d585-2786-486f-a583-8e781b437306-0', usage_metadata={'input_tokens': 21, 'output_tokens': 208, 'total_tokens': 229}), HumanMessage(content='Hi my name is irfan. and i like cricket', additional_kwargs={}, response_metadata={}, id='614ba549-13bd-4c50-b8f0-ee7cf208dd5f')]}\n",
      "{'messages': [HumanMessage(content='Hi my name is irfan. and i like cricket', additional_kwargs={}, response_metadata={}, id='e4ed58c4-fc9a-4255-a2af-85d25bbb9f5f'), AIMessage(content='\\n<think>\\nOkay, the user introduced themselves as Irfan and mentioned liking cricket. I should respond in a friendly way.\\n\\nFirst, I\\'ll greet them back. Maybe say \"Hi Irfan!\" to acknowledge their name.\\n\\nNext, I should show interest in their interest by asking about their favorite cricket team or players. That could lead to a conversation.\\n\\nAlso, maybe ask if they follow any particular tournaments. The World Cup is a big one, so mentioning that makes sense.\\n\\nI need to keep it open-ended so they can choose what to talk about. Maybe end with a question to encourage them to share more.\\n\\nLet me put that together in a natural, conversational tone without any jargon or complicated words. Keep it simple and friendly.\\n</think>\\n\\nHi Irfan! That\\'s a great hobby—cricket is such a thrilling sport! Do you have a favorite cricket team or player? And do you enjoy following tournaments like the World Cup or the IPL? 😊 Let me know—I’d love to chat about it!', additional_kwargs={}, response_metadata={'token_usage': {'completion_tokens': 208, 'prompt_tokens': 21, 'total_tokens': 229, 'completion_time': 0.486499786, 'prompt_time': 0.003405375, 'queue_time': 0.548311263, 'total_time': 0.489905161}, 'model_name': 'qwen-qwq-32b', 'system_fingerprint': 'fp_28178d7ff6', 'finish_reason': 'stop', 'logprobs': None}, id='run--3b02d585-2786-486f-a583-8e781b437306-0', usage_metadata={'input_tokens': 21, 'output_tokens': 208, 'total_tokens': 229}), HumanMessage(content='Hi my name is irfan. and i like cricket', additional_kwargs={}, response_metadata={}, id='614ba549-13bd-4c50-b8f0-ee7cf208dd5f'), AIMessage(content='\\n<think>\\nOkay, the user just said \"Hi my name is irfan. and i like cricket\" again. Wait, didn\\'t they just start the conversation like this before? Let me check the history.\\n\\nAh right, the user first greeted me with that, and I responded by asking about their favorite team or player and if they like the World Cup or IPL. Now they\\'ve repeated the same message. Hmm, maybe they didn\\'t see my response or there was a misunderstanding. Or perhaps they want to start over? Alternatively, they might be testing something or just being repetitive. \\n\\nSince the user is repeating their initial message, I should consider that they might need a different approach. Maybe they didn\\'t understand how to respond, or they\\'re looking for a more direct conversation. Since my previous response was friendly and open-ended, maybe they need a prompt that\\'s more specific. Let me try to rephrase my questions in case they\\'re unsure how to answer. Alternatively, maybe they want to share more about their interest in cricket without being asked specific questions. \\n\\nAlternatively, perhaps they want to talk about something else related to cricket now. Since they mentioned their name and interest, maybe they want to share stories or ask for recommendations. Let me see if I can encourage them to elaborate further. I should stay friendly and make sure they feel comfortable to share more. Let me try to phrase the questions again but in a slightly different way, or perhaps mention a current event in cricket to spark a conversation. \\n\\nAlso, since they\\'re using lowercase letters, maybe they\\'re not concerned about formality, so I should keep the tone casual. Maybe I can mention popular players or recent matches to engage them. Let me think of some current topics. The IPL is ongoing, or maybe the upcoming World Cup. Alternatively, if they like a particular team, I can talk about that. \\n\\nWait, since they didn\\'t answer the first questions, maybe they need more guidance. Let me try to break down the questions into smaller parts or offer examples. For instance, \"Do you support any national team like India or Australia?\" or \"Who\\'s your favorite player, like Virat Kohli or someone else?\" That might make it easier for them to respond. \\n\\nAlternatively, maybe they want to discuss their own experiences with cricket, like playing it themselves. I should leave the door open for that. Let me structure my response to be more inviting and offer multiple angles they can take to continue the conversation. \\n\\nI should also check for any possible typos or formatting issues. The user\\'s message is straightforward. Alright, time to draft a response that\\'s friendly, encourages further conversation, and provides options for them to choose how to proceed.\\n</think>\\n\\nHey Irfan, no worries at all—happy to chat again! 😊 To help keep the conversation going, here’s a nudge in case you need ideas:  \\n\\n- **Teams/Players**: Do you root for a team (like Pakistan, India, or Australia)? Or admire a player like Babar Azam, Kohli, or someone else?  \\n- **Matches/Formats**: Do you prefer fast-paced T20s, strategic Test cricket, or ODI tournaments?  \\n- **Fun Stuff**: Ever played cricket yourself? Or have any memorable moments watching a game?  \\n\\nOr maybe you want to know about *my* favorite cricket moments? Just say the word! 😄', additional_kwargs={}, response_metadata={'token_usage': {'completion_tokens': 691, 'prompt_tokens': 98, 'total_tokens': 789, 'completion_time': 1.725675482, 'prompt_time': 0.007360708, 'queue_time': 0.261572392, 'total_time': 1.73303619}, 'model_name': 'qwen-qwq-32b', 'system_fingerprint': 'fp_98b01f25b2', 'finish_reason': 'stop', 'logprobs': None}, id='run--01d276b3-141b-47a5-a730-84bc3896bb65-0', usage_metadata={'input_tokens': 98, 'output_tokens': 691, 'total_tokens': 789})]}\n"
     ]
    }
   ],
   "source": [
    "for chunk in graph.stream({\"messages\":\"Hi my name is irfan. and i like cricket\"},config=config,stream_mode=\"values\"):\n",
    "    print(chunk)"
   ]
  },
  {
   "cell_type": "code",
   "execution_count": 40,
   "id": "2f7842cb",
   "metadata": {},
   "outputs": [
    {
     "name": "stdout",
     "output_type": "stream",
     "text": [
      "{'superbot': {'messages': [AIMessage(content=\"\\n<think>\\nOkay, the user introduced himself as Irfan and mentioned he likes cricket. I should respond in a friendly way. Let me start by greeting him and acknowledging his interest in cricket. Maybe ask him some questions to keep the conversation going. I can ask if he's a fan of any particular cricket team or player. Also, since it's a conversation, I should make it open-ended so he feels comfortable to share more. Let me check the response structure to make sure it's welcoming and engaging. Maybe use some emojis to keep the tone friendly. Alright, that should work.\\n</think>\\n\\nHi Irfan! Nice to meet you 👋 It's great that you like cricket! 🏏 Are you a fan of any particular cricket team or player? And do you enjoy playing cricket yourself? I'd love to hear more about your interests!\", additional_kwargs={}, response_metadata={'token_usage': {'completion_tokens': 172, 'prompt_tokens': 21, 'total_tokens': 193, 'completion_time': 0.440157639, 'prompt_time': 0.00340622, 'queue_time': 0.259555838, 'total_time': 0.443563859}, 'model_name': 'qwen-qwq-32b', 'system_fingerprint': 'fp_98b01f25b2', 'finish_reason': 'stop', 'logprobs': None}, id='run--dec45618-2168-47d0-a77a-3b8443a005f9-0', usage_metadata={'input_tokens': 21, 'output_tokens': 172, 'total_tokens': 193})]}}\n"
     ]
    }
   ],
   "source": [
    "config={\"configurable\":{\"thread_id\":\"4\"}}\n",
    "for chunk in graph.stream({\"messages\":\"Hi my name is irfan. and i like cricket\"},config=config,stream_mode=\"updates\"):\n",
    "    print(chunk)"
   ]
  },
  {
   "cell_type": "code",
   "execution_count": 41,
   "id": "488739e2",
   "metadata": {},
   "outputs": [
    {
     "name": "stdout",
     "output_type": "stream",
     "text": [
      "{'messages': [HumanMessage(content='Hi my name is irfan. and i like cricket', additional_kwargs={}, response_metadata={}, id='ccbcba78-3f23-4d09-ade4-0aa9854c0da5'), AIMessage(content=\"\\n<think>\\nOkay, the user introduced himself as Irfan and mentioned he likes cricket. I should respond in a friendly way. Let me start by greeting him and acknowledging his interest in cricket. Maybe ask him some questions to keep the conversation going. I can ask if he's a fan of any particular cricket team or player. Also, since it's a conversation, I should make it open-ended so he feels comfortable to share more. Let me check the response structure to make sure it's welcoming and engaging. Maybe use some emojis to keep the tone friendly. Alright, that should work.\\n</think>\\n\\nHi Irfan! Nice to meet you 👋 It's great that you like cricket! 🏏 Are you a fan of any particular cricket team or player? And do you enjoy playing cricket yourself? I'd love to hear more about your interests!\", additional_kwargs={}, response_metadata={'token_usage': {'completion_tokens': 172, 'prompt_tokens': 21, 'total_tokens': 193, 'completion_time': 0.440157639, 'prompt_time': 0.00340622, 'queue_time': 0.259555838, 'total_time': 0.443563859}, 'model_name': 'qwen-qwq-32b', 'system_fingerprint': 'fp_98b01f25b2', 'finish_reason': 'stop', 'logprobs': None}, id='run--dec45618-2168-47d0-a77a-3b8443a005f9-0', usage_metadata={'input_tokens': 21, 'output_tokens': 172, 'total_tokens': 193}), HumanMessage(content='I also like football', additional_kwargs={}, response_metadata={}, id='5b71db2f-a66f-4c47-af60-bacbfc2476ac')]}\n",
      "{'messages': [HumanMessage(content='Hi my name is irfan. and i like cricket', additional_kwargs={}, response_metadata={}, id='ccbcba78-3f23-4d09-ade4-0aa9854c0da5'), AIMessage(content=\"\\n<think>\\nOkay, the user introduced himself as Irfan and mentioned he likes cricket. I should respond in a friendly way. Let me start by greeting him and acknowledging his interest in cricket. Maybe ask him some questions to keep the conversation going. I can ask if he's a fan of any particular cricket team or player. Also, since it's a conversation, I should make it open-ended so he feels comfortable to share more. Let me check the response structure to make sure it's welcoming and engaging. Maybe use some emojis to keep the tone friendly. Alright, that should work.\\n</think>\\n\\nHi Irfan! Nice to meet you 👋 It's great that you like cricket! 🏏 Are you a fan of any particular cricket team or player? And do you enjoy playing cricket yourself? I'd love to hear more about your interests!\", additional_kwargs={}, response_metadata={'token_usage': {'completion_tokens': 172, 'prompt_tokens': 21, 'total_tokens': 193, 'completion_time': 0.440157639, 'prompt_time': 0.00340622, 'queue_time': 0.259555838, 'total_time': 0.443563859}, 'model_name': 'qwen-qwq-32b', 'system_fingerprint': 'fp_98b01f25b2', 'finish_reason': 'stop', 'logprobs': None}, id='run--dec45618-2168-47d0-a77a-3b8443a005f9-0', usage_metadata={'input_tokens': 21, 'output_tokens': 172, 'total_tokens': 193}), HumanMessage(content='I also like football', additional_kwargs={}, response_metadata={}, id='5b71db2f-a66f-4c47-af60-bacbfc2476ac'), AIMessage(content=\"\\n<think>\\nOkay, the user mentioned they like both cricket and football. I should acknowledge both sports to keep the conversation engaging. Let me ask about their favorite teams or players in each. Maybe they support a particular country or have a favorite league. Also, I should check if they play these sports themselves. It's important to keep the questions open-ended to encourage them to share more. Let me make sure my tone stays friendly and enthusiastic.\\n</think>\\n\\nThat's a fantastic combination! 🚀 Cricket and football are both incredible sports. Do you have any favorite teams or players in football too? And do you enjoy playing either of these sports, or are you more of a spectator fan? Let me know—I’m curious to learn more about your passions! ⚽🏏\", additional_kwargs={}, response_metadata={'token_usage': {'completion_tokens': 154, 'prompt_tokens': 87, 'total_tokens': 241, 'completion_time': 0.37907701, 'prompt_time': 0.007607943, 'queue_time': 0.258008741, 'total_time': 0.386684953}, 'model_name': 'qwen-qwq-32b', 'system_fingerprint': 'fp_1e88ca32eb', 'finish_reason': 'stop', 'logprobs': None}, id='run--a31f76eb-58f2-4dbd-9336-16ec33b6a17b-0', usage_metadata={'input_tokens': 87, 'output_tokens': 154, 'total_tokens': 241})]}\n"
     ]
    }
   ],
   "source": [
    "for chunk in graph.stream({\"messages\":\"I also like football\"},config=config,stream_mode=\"values\"):\n",
    "    print(chunk)"
   ]
  },
  {
   "cell_type": "markdown",
   "id": "1139275c",
   "metadata": {},
   "source": [
    "# HUMAN IN THE LOOP"
   ]
  },
  {
   "cell_type": "code",
   "execution_count": 70,
   "id": "12eea88b",
   "metadata": {},
   "outputs": [
    {
     "data": {
      "text/plain": [
       "ChatGroq(client=<groq.resources.chat.completions.Completions object at 0x1260d7c10>, async_client=<groq.resources.chat.completions.AsyncCompletions object at 0x17f3ee510>, model_name='llama3-8b-8192', model_kwargs={}, groq_api_key=SecretStr('**********'))"
      ]
     },
     "execution_count": 70,
     "metadata": {},
     "output_type": "execute_result"
    }
   ],
   "source": [
    "import os\n",
    "from langchain.chat_models import init_chat_model\n",
    "llm=init_chat_model(model=\"groq:llama3-8b-8192\")\n",
    "llm"
   ]
  },
  {
   "cell_type": "code",
   "execution_count": 71,
   "id": "bdb32996",
   "metadata": {},
   "outputs": [
    {
     "data": {
      "image/png": "[encoded data removed]",
      "text/plain": [
       "<IPython.core.display.Image object>"
      ]
     },
     "metadata": {},
     "output_type": "display_data"
    }
   ],
   "source": [
    "from typing import Annotated\n",
    "from langchain_tavily import TavilySearch\n",
    "from langchain_core.tools import tool\n",
    "from typing_extensions import TypedDict\n",
    "from langgraph.checkpoint.memory import MemorySaver\n",
    "from langgraph.graph import StateGraph,START,END\n",
    "from langgraph.prebuilt import ToolNode,tools_condition\n",
    "from langgraph.graph.message import add_messages\n",
    "from langgraph.types import Command,interrupt\n",
    "class state(TypedDict):\n",
    "    messages:Annotated[list,add_messages]\n",
    "graph_builder=StateGraph(state)\n",
    "@tool\n",
    "def human_assistance(query:str)-> str:\n",
    "    \"\"\"\n",
    "    This function provides human assistance by interrupting the process\n",
    "    and returning a human response based on the given query.\n",
    "    \"\"\"\n",
    "    human_response=interrupt({\"query\":query})\n",
    "    return human_response[\"data\"]\n",
    "tool=TavilySearch(max_results=2)\n",
    "tools=[tool,human_assistance]\n",
    "llm_with_tools=llm.bind_tools(tools)\n",
    "def chatbot(state:State):\n",
    "    message=llm_with_tools.invoke(state[\"messages\"])\n",
    "    # Because we will be interrupting during tool execution,\n",
    "    # we disable parallel tool calling to avoid repeating any\n",
    "    # tool invocations when we resume.\n",
    "    return {\"messages\":[message]}\n",
    "toolnode=ToolNode(tools=tools)\n",
    "graph_builder.add_node(\"tools\",toolnode)\n",
    "graph_builder.add_node(\"chatbot\",chatbot)\n",
    "graph_builder.add_conditional_edges(\n",
    "    \"chatbot\",\n",
    "    tools_condition,\n",
    ")\n",
    "graph_builder.add_edge(\"tools\", \"chatbot\")\n",
    "graph_builder.add_edge(START, \"chatbot\")\n",
    "memory = MemorySaver()\n",
    "\n",
    "graph = graph_builder.compile(checkpointer=memory)\n",
    "from IPython.display import Image, display\n",
    "\n",
    "try:\n",
    "    display(Image(graph.get_graph().draw_mermaid_png()))\n",
    "except Exception:\n",
    "    # This requires some extra dependencies and is optional\n",
    "    pass\n",
    "\n",
    "\n"
   ]
  },
  {
   "cell_type": "markdown",
   "id": "98a9e9b7",
   "metadata": {},
   "source": []
  },
  {
   "cell_type": "code",
   "execution_count": 72,
   "id": "27cf0f7f",
   "metadata": {},
   "outputs": [
    {
     "name": "stdout",
     "output_type": "stream",
     "text": [
      "================================\u001b[1m Human Message \u001b[0m=================================\n",
      "\n",
      "I need some expert guidance and assistance from a top knowldege person for building a ML model. Could you request assistance for me?\n",
      "==================================\u001b[1m Ai Message \u001b[0m==================================\n",
      "Tool Calls:\n",
      "  human_assistance (8tknkfbak)\n",
      " Call ID: 8tknkfbak\n",
      "  Args:\n",
      "    query: Request for expert guidance and assistance from a top knowledge person for building a ML model.\n"
     ]
    }
   ],
   "source": [
    "\n",
    "user_input = \"I need some expert guidance and assistance from a top knowldege person for building a ML model. Could you request assistance for me?\"\n",
    "config = {\"configurable\": {\"thread_id\": \"6\"}}\n",
    "events = graph.stream(\n",
    "    {\"messages\": user_input},\n",
    "    config,\n",
    "    stream_mode=\"values\",\n",
    ")\n",
    "for event in events:\n",
    "    if \"messages\" in event:\n",
    "        event[\"messages\"][-1].pretty_print()"
   ]
  },
  {
   "cell_type": "code",
   "execution_count": 73,
   "id": "ccf3c0e5",
   "metadata": {},
   "outputs": [
    {
     "name": "stdout",
     "output_type": "stream",
     "text": [
      "==================================\u001b[1m Ai Message \u001b[0m==================================\n",
      "Tool Calls:\n",
      "  human_assistance (8tknkfbak)\n",
      " Call ID: 8tknkfbak\n",
      "  Args:\n",
      "    query: Request for expert guidance and assistance from a top knowledge person for building a ML model.\n",
      "=================================\u001b[1m Tool Message \u001b[0m=================================\n",
      "Name: human_assistance\n",
      "\n",
      "We, the experts are here to help! We'd recommend you check out docker to build your ML agent. It's much more reliable and extensible for ML agent.\n",
      "==================================\u001b[1m Ai Message \u001b[0m==================================\n",
      "Tool Calls:\n",
      "  tavily_search (fe387bryz)\n",
      " Call ID: fe387bryz\n",
      "  Args:\n",
      "    query: What is Docker and how can it be used for building a ML model?\n",
      "=================================\u001b[1m Tool Message \u001b[0m=================================\n",
      "Name: tavily_search\n",
      "\n",
      "{\"query\": \"What is Docker and how can it be used for building a ML model?\", \"follow_up_questions\": null, \"answer\": null, \"images\": [], \"results\": [{\"url\": \"https://towardsdatascience.com/build-and-run-a-docker-container-for-your-machine-learning-model-60209c2d7a7f/\", \"title\": \"Build and Run a Docker Container for your Machine Learning Model\", \"content\": \"The idea of this article is to do a quick and easy build of a Docker container with a simple machine learning model and run it.\", \"score\": 0.7395922, \"raw_content\": null}, {\"url\": \"https://www.docker.com/products/ai-ml-development/\", \"title\": \"Accelerated AI/ML Development - Docker\", \"content\": \"Learn how Docker simplifies complex AI and ML development projects to facilitate faster, reproducible, and secure deployments.\", \"score\": 0.7253574, \"raw_content\": null}], \"response_time\": 1.22}\n",
      "==================================\u001b[1m Ai Message \u001b[0m==================================\n",
      "Tool Calls:\n",
      "  tavily_search (h5k9p7sq5)\n",
      " Call ID: h5k9p7sq5\n",
      "  Args:\n",
      "    exclude_domains: ['twitter.com']\n",
      "    exclude_favicon: True\n",
      "    include_domains: ['nasa.gov', 'apple.com']\n",
      "    include_favicon: True\n",
      "    include_images: True\n",
      "    query: How can I use Docker to build a ML model with Python?\n",
      "    search_depth: advanced\n",
      "    time_range: month\n",
      "    topic: general\n",
      "=================================\u001b[1m Tool Message \u001b[0m=================================\n",
      "Name: tavily_search\n",
      "\n",
      "{\"query\": \"How can I use Docker to build a ML model with Python?\", \"follow_up_questions\": null, \"answer\": null, \"images\": [\"https://is1-ssl.mzstatic.com/image/thumb/Podcasts211/v4/99/cf/2c/99cf2ccc-52c5-868b-e7ee-e4d4ae1347df/mza_2680875430002143798.jpg/1200x1200bf-60.jpg\", \"https://www.apple.com/newsroom/images/2024/06/introducing-apple-intelligence-for-iphone-ipad-and-mac/article/Apple-WWDC24-Apple-Intelligence-ChatGPT-Writing-Tools-Compose-prompt-240610_big.jpg.large_2x.jpg\", \"https://docs-assets.developer.apple.com/published/8c69c5a70381015d07af31a6c33c000a/media-2983146@2x.png\", \"https://discussions.apple.com/content/attachment/0f098b20-208f-4852-a817-b1d5eead44ac\", \"https://www.apple.com/my/apps/images/overview/apps/tier1/boc/photos_boc_1__duaccanwjqgm_xlarge.jpg\"], \"results\": [{\"url\": \"https://jobs.apple.com/en-ie/details/200605291/aiml-ml-engineer-machine-learning-platform-technologies?team=MLAI\", \"title\": \"ML Engineer, Machine Learning Platform Technologies\", \"content\": \"Proficient with running applications on Cloud (AWS / Azure or equivalent) using Kubernetes, Docker etc. Familiar with GPU programming concepts using CUDA.\", \"score\": 0.98509, \"raw_content\": null, \"favicon\": \"https://www.apple.com/favicon.ico\"}, {\"url\": \"https://jobs.apple.com/en-us/details/200608103/aiml-machine-learning-engineer-measurement?team=MLAI\", \"title\": \"AIML - Machine Learning Engineer, Measurement\", \"content\": \"Hands-on experience containerizing applications using Docker and deploying on Kubernetes (EKS preferred) or similar. Hands-on experience supporting developers\", \"score\": 0.98438, \"raw_content\": null, \"favicon\": \"https://www.apple.com/favicon.ico\"}], \"response_time\": 6.43}\n",
      "==================================\u001b[1m Ai Message \u001b[0m==================================\n",
      "Tool Calls:\n",
      "  human_assistance (a7ta4qsez)\n",
      " Call ID: a7ta4qsez\n",
      "  Args:\n",
      "    query: How can I use Docker to build a ML model with Python?\n"
     ]
    }
   ],
   "source": [
    "human_response = (\n",
    "    \"We, the experts are here to help! We'd recommend you check out docker to build your ML agent.\"\n",
    "    \" It's much more reliable and extensible for ML agent.\"\n",
    ")\n",
    "human_command=Command(resume={\"data\":human_response})\n",
    "events=graph.stream(human_command,config,stream_mode=\"values\")\n",
    "for event in events:\n",
    "    if \"messages\" in event:\n",
    "        event[\"messages\"][-1].pretty_print()"
   ]
  },
  {
   "cell_type": "code",
   "execution_count": null,
   "id": "97ab0f10",
   "metadata": {},
   "outputs": [],
   "source": []
  },
  {
   "cell_type": "code",
   "execution_count": null,
   "id": "91220e75",
   "metadata": {},
   "outputs": [],
   "source": []
  },
  {
   "cell_type": "code",
   "execution_count": null,
   "id": "160c8da3",
   "metadata": {},
   "outputs": [],
   "source": []
  },
  {
   "cell_type": "code",
   "execution_count": 48,
   "id": "60d87a14",
   "metadata": {},
   "outputs": [
    {
     "name": "stdout",
     "output_type": "stream",
     "text": [
      "Collecting langchain_tavily\n",
      "  Downloading langchain_tavily-0.2.7-py3-none-any.whl.metadata (21 kB)\n",
      "Collecting aiohttp<4.0.0,>=3.11.14 (from langchain_tavily)\n",
      "  Downloading aiohttp-3.12.13-cp311-cp311-macosx_11_0_arm64.whl.metadata (7.6 kB)\n",
      "Requirement already satisfied: langchain<0.4.0,>=0.3.20 in /Users/shaikmohammadirfan/anaconda3/lib/python3.11/site-packages (from langchain_tavily) (0.3.25)\n",
      "Requirement already satisfied: langchain-core<0.4.0,>=0.3.15 in /Users/shaikmohammadirfan/anaconda3/lib/python3.11/site-packages (from langchain_tavily) (0.3.68)\n",
      "Requirement already satisfied: requests<3.0.0,>=2.32.3 in /Users/shaikmohammadirfan/anaconda3/lib/python3.11/site-packages (from langchain_tavily) (2.32.4)\n",
      "Collecting aiohappyeyeballs>=2.5.0 (from aiohttp<4.0.0,>=3.11.14->langchain_tavily)\n",
      "  Using cached aiohappyeyeballs-2.6.1-py3-none-any.whl.metadata (5.9 kB)\n",
      "Requirement already satisfied: aiosignal>=1.1.2 in /Users/shaikmohammadirfan/anaconda3/lib/python3.11/site-packages (from aiohttp<4.0.0,>=3.11.14->langchain_tavily) (1.2.0)\n",
      "Requirement already satisfied: attrs>=17.3.0 in /Users/shaikmohammadirfan/anaconda3/lib/python3.11/site-packages (from aiohttp<4.0.0,>=3.11.14->langchain_tavily) (23.1.0)\n",
      "Requirement already satisfied: frozenlist>=1.1.1 in /Users/shaikmohammadirfan/anaconda3/lib/python3.11/site-packages (from aiohttp<4.0.0,>=3.11.14->langchain_tavily) (1.4.0)\n",
      "Requirement already satisfied: multidict<7.0,>=4.5 in /Users/shaikmohammadirfan/anaconda3/lib/python3.11/site-packages (from aiohttp<4.0.0,>=3.11.14->langchain_tavily) (6.0.4)\n",
      "Collecting propcache>=0.2.0 (from aiohttp<4.0.0,>=3.11.14->langchain_tavily)\n",
      "  Downloading propcache-0.3.2-cp311-cp311-macosx_11_0_arm64.whl.metadata (12 kB)\n",
      "Collecting yarl<2.0,>=1.17.0 (from aiohttp<4.0.0,>=3.11.14->langchain_tavily)\n",
      "  Downloading yarl-1.20.1-cp311-cp311-macosx_11_0_arm64.whl.metadata (73 kB)\n",
      "\u001b[2K     \u001b[90m━━━━━━━━━━━━━━━━━━━━━━━━━━━━━━━━━━━━━━━━\u001b[0m \u001b[32m73.9/73.9 kB\u001b[0m \u001b[31m1.9 MB/s\u001b[0m eta \u001b[36m0:00:00\u001b[0m\n",
      "\u001b[?25hRequirement already satisfied: langchain-text-splitters<1.0.0,>=0.3.8 in /Users/shaikmohammadirfan/anaconda3/lib/python3.11/site-packages (from langchain<0.4.0,>=0.3.20->langchain_tavily) (0.3.8)\n",
      "Requirement already satisfied: langsmith<0.4,>=0.1.17 in /Users/shaikmohammadirfan/anaconda3/lib/python3.11/site-packages (from langchain<0.4.0,>=0.3.20->langchain_tavily) (0.3.45)\n",
      "Requirement already satisfied: pydantic<3.0.0,>=2.7.4 in /Users/shaikmohammadirfan/anaconda3/lib/python3.11/site-packages (from langchain<0.4.0,>=0.3.20->langchain_tavily) (2.11.4)\n",
      "Requirement already satisfied: SQLAlchemy<3,>=1.4 in /Users/shaikmohammadirfan/anaconda3/lib/python3.11/site-packages (from langchain<0.4.0,>=0.3.20->langchain_tavily) (2.0.25)\n",
      "Requirement already satisfied: PyYAML>=5.3 in /Users/shaikmohammadirfan/anaconda3/lib/python3.11/site-packages (from langchain<0.4.0,>=0.3.20->langchain_tavily) (6.0.1)\n",
      "Requirement already satisfied: tenacity!=8.4.0,<10.0.0,>=8.1.0 in /Users/shaikmohammadirfan/anaconda3/lib/python3.11/site-packages (from langchain-core<0.4.0,>=0.3.15->langchain_tavily) (8.2.2)\n",
      "Requirement already satisfied: jsonpatch<2.0,>=1.33 in /Users/shaikmohammadirfan/anaconda3/lib/python3.11/site-packages (from langchain-core<0.4.0,>=0.3.15->langchain_tavily) (1.33)\n",
      "Requirement already satisfied: packaging<25,>=23.2 in /Users/shaikmohammadirfan/anaconda3/lib/python3.11/site-packages (from langchain-core<0.4.0,>=0.3.15->langchain_tavily) (24.2)\n",
      "Requirement already satisfied: typing-extensions>=4.7 in /Users/shaikmohammadirfan/anaconda3/lib/python3.11/site-packages (from langchain-core<0.4.0,>=0.3.15->langchain_tavily) (4.13.2)\n",
      "Requirement already satisfied: charset_normalizer<4,>=2 in /Users/shaikmohammadirfan/anaconda3/lib/python3.11/site-packages (from requests<3.0.0,>=2.32.3->langchain_tavily) (2.0.4)\n",
      "Requirement already satisfied: idna<4,>=2.5 in /Users/shaikmohammadirfan/anaconda3/lib/python3.11/site-packages (from requests<3.0.0,>=2.32.3->langchain_tavily) (3.4)\n",
      "Requirement already satisfied: urllib3<3,>=1.21.1 in /Users/shaikmohammadirfan/anaconda3/lib/python3.11/site-packages (from requests<3.0.0,>=2.32.3->langchain_tavily) (2.0.7)\n",
      "Requirement already satisfied: certifi>=2017.4.17 in /Users/shaikmohammadirfan/anaconda3/lib/python3.11/site-packages (from requests<3.0.0,>=2.32.3->langchain_tavily) (2024.2.2)\n",
      "Requirement already satisfied: jsonpointer>=1.9 in /Users/shaikmohammadirfan/anaconda3/lib/python3.11/site-packages (from jsonpatch<2.0,>=1.33->langchain-core<0.4.0,>=0.3.15->langchain_tavily) (2.1)\n",
      "Requirement already satisfied: httpx<1,>=0.23.0 in /Users/shaikmohammadirfan/anaconda3/lib/python3.11/site-packages (from langsmith<0.4,>=0.1.17->langchain<0.4.0,>=0.3.20->langchain_tavily) (0.28.1)\n",
      "Requirement already satisfied: orjson<4.0.0,>=3.9.14 in /Users/shaikmohammadirfan/anaconda3/lib/python3.11/site-packages (from langsmith<0.4,>=0.1.17->langchain<0.4.0,>=0.3.20->langchain_tavily) (3.10.18)\n",
      "Requirement already satisfied: requests-toolbelt<2.0.0,>=1.0.0 in /Users/shaikmohammadirfan/anaconda3/lib/python3.11/site-packages (from langsmith<0.4,>=0.1.17->langchain<0.4.0,>=0.3.20->langchain_tavily) (1.0.0)\n",
      "Requirement already satisfied: zstandard<0.24.0,>=0.23.0 in /Users/shaikmohammadirfan/anaconda3/lib/python3.11/site-packages (from langsmith<0.4,>=0.1.17->langchain<0.4.0,>=0.3.20->langchain_tavily) (0.23.0)\n",
      "Requirement already satisfied: annotated-types>=0.6.0 in /Users/shaikmohammadirfan/anaconda3/lib/python3.11/site-packages (from pydantic<3.0.0,>=2.7.4->langchain<0.4.0,>=0.3.20->langchain_tavily) (0.7.0)\n",
      "Requirement already satisfied: pydantic-core==2.33.2 in /Users/shaikmohammadirfan/anaconda3/lib/python3.11/site-packages (from pydantic<3.0.0,>=2.7.4->langchain<0.4.0,>=0.3.20->langchain_tavily) (2.33.2)\n",
      "Requirement already satisfied: typing-inspection>=0.4.0 in /Users/shaikmohammadirfan/anaconda3/lib/python3.11/site-packages (from pydantic<3.0.0,>=2.7.4->langchain<0.4.0,>=0.3.20->langchain_tavily) (0.4.1)\n",
      "Requirement already satisfied: anyio in /Users/shaikmohammadirfan/anaconda3/lib/python3.11/site-packages (from httpx<1,>=0.23.0->langsmith<0.4,>=0.1.17->langchain<0.4.0,>=0.3.20->langchain_tavily) (4.2.0)\n",
      "Requirement already satisfied: httpcore==1.* in /Users/shaikmohammadirfan/anaconda3/lib/python3.11/site-packages (from httpx<1,>=0.23.0->langsmith<0.4,>=0.1.17->langchain<0.4.0,>=0.3.20->langchain_tavily) (1.0.9)\n",
      "Requirement already satisfied: h11>=0.16 in /Users/shaikmohammadirfan/anaconda3/lib/python3.11/site-packages (from httpcore==1.*->httpx<1,>=0.23.0->langsmith<0.4,>=0.1.17->langchain<0.4.0,>=0.3.20->langchain_tavily) (0.16.0)\n",
      "Requirement already satisfied: sniffio>=1.1 in /Users/shaikmohammadirfan/anaconda3/lib/python3.11/site-packages (from anyio->httpx<1,>=0.23.0->langsmith<0.4,>=0.1.17->langchain<0.4.0,>=0.3.20->langchain_tavily) (1.3.0)\n",
      "Downloading langchain_tavily-0.2.7-py3-none-any.whl (25 kB)\n",
      "Downloading aiohttp-3.12.13-cp311-cp311-macosx_11_0_arm64.whl (469 kB)\n",
      "\u001b[2K   \u001b[90m━━━━━━━━━━━━━━━━━━━━━━━━━━━━━━━━━━━━━━━━\u001b[0m \u001b[32m469.9/469.9 kB\u001b[0m \u001b[31m7.1 MB/s\u001b[0m eta \u001b[36m0:00:00\u001b[0ma \u001b[36m0:00:01\u001b[0m\n",
      "\u001b[?25hUsing cached aiohappyeyeballs-2.6.1-py3-none-any.whl (15 kB)\n",
      "Downloading propcache-0.3.2-cp311-cp311-macosx_11_0_arm64.whl (43 kB)\n",
      "\u001b[2K   \u001b[90m━━━━━━━━━━━━━━━━━━━━━━━━━━━━━━━━━━━━━━━━\u001b[0m \u001b[32m43.5/43.5 kB\u001b[0m \u001b[31m5.4 MB/s\u001b[0m eta \u001b[36m0:00:00\u001b[0m\n",
      "\u001b[?25hDownloading yarl-1.20.1-cp311-cp311-macosx_11_0_arm64.whl (89 kB)\n",
      "\u001b[2K   \u001b[90m━━━━━━━━━━━━━━━━━━━━━━━━━━━━━━━━━━━━━━━━\u001b[0m \u001b[32m89.8/89.8 kB\u001b[0m \u001b[31m12.5 MB/s\u001b[0m eta \u001b[36m0:00:00\u001b[0m\n",
      "\u001b[?25hInstalling collected packages: propcache, aiohappyeyeballs, yarl, aiohttp, langchain_tavily\n",
      "  Attempting uninstall: yarl\n",
      "    Found existing installation: yarl 1.9.3\n",
      "    Uninstalling yarl-1.9.3:\n",
      "      Successfully uninstalled yarl-1.9.3\n",
      "  Attempting uninstall: aiohttp\n",
      "    Found existing installation: aiohttp 3.9.3\n",
      "    Uninstalling aiohttp-3.9.3:\n",
      "      Successfully uninstalled aiohttp-3.9.3\n",
      "Successfully installed aiohappyeyeballs-2.6.1 aiohttp-3.12.13 langchain_tavily-0.2.7 propcache-0.3.2 yarl-1.20.1\n"
     ]
    }
   ],
   "source": [
    "!pip install langchain_tavily\n"
   ]
  },
  {
   "cell_type": "code",
   "execution_count": null,
   "id": "0585e4a7",
   "metadata": {},
   "outputs": [],
   "source": []
  },
  {
   "cell_type": "code",
   "execution_count": null,
   "id": "2497c194",
   "metadata": {},
   "outputs": [],
   "source": []
  },
  {
   "cell_type": "code",
   "execution_count": null,
   "id": "bfe54dcc",
   "metadata": {},
   "outputs": [],
   "source": []
  },
  {
   "cell_type": "code",
   "execution_count": null,
   "id": "e20ec851",
   "metadata": {},
   "outputs": [],
   "source": []
  },
  {
   "cell_type": "code",
   "execution_count": null,
   "id": "c9efeefa",
   "metadata": {},
   "outputs": [],
   "source": []
  }
 ],
 "metadata": {
  "kernelspec": {
   "display_name": "base",
   "language": "python",
   "name": "python3"
  },
  "language_info": {
   "codemirror_mode": {
    "name": "ipython",
    "version": 3
   },
   "file_extension": ".py",
   "mimetype": "text/x-python",
   "name": "python",
   "nbconvert_exporter": "python",
   "pygments_lexer": "ipython3",
   "version": "3.11.7"
  }
 },
 "nbformat": 4,
 "nbformat_minor": 5
}
