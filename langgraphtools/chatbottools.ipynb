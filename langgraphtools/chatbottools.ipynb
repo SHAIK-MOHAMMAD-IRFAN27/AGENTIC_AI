# tools for chatbot
from langchain_community.tools import ArxivQueryRun,WikipediaQueryRun
from langchain_community.utilities import WikipediaAPIWrapper,ArxivAPIWrapper

